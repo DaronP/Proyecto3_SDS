{
  "cells": [
    {
      "cell_type": "code",
      "execution_count": 1,
      "metadata": {
        "id": "Z6v00pIyUHAa"
      },
      "outputs": [
        {
          "name": "stderr",
          "output_type": "stream",
          "text": [
            "c:\\Users\\jandr\\AppData\\Local\\Programs\\Python\\Python310\\lib\\site-packages\\tqdm\\auto.py:22: TqdmWarning: IProgress not found. Please update jupyter and ipywidgets. See https://ipywidgets.readthedocs.io/en/stable/user_install.html\n",
            "  from .autonotebook import tqdm as notebook_tqdm\n",
            "c:\\Users\\jandr\\AppData\\Local\\Programs\\Python\\Python310\\lib\\site-packages\\torch\\_masked\\__init__.py:223: UserWarning: Failed to initialize NumPy: module compiled against API version 0xf but this version of numpy is 0xe (Triggered internally at  ..\\torch\\csrc\\utils\\tensor_numpy.cpp:68.)\n",
            "  example_input = torch.tensor([[-3, -2, -1], [0, 1, 2]])\n"
          ]
        }
      ],
      "source": [
        "#Importando libs\n",
        "from art.attacks.extraction import CopycatCNN, KnockoffNets\n",
        "from art.estimators.classification import KerasClassifier\n",
        "import numpy as np\n",
        "from glob import glob\n",
        "import scipy\n",
        "from scipy.io import wavfile\n",
        "import scipy.fftpack as fft\n",
        "from scipy.signal import get_window\n",
        "import matplotlib.pyplot as plt\n",
        "from random import randint\n",
        "from tqdm import tqdm\n",
        "import pandas as pd\n",
        "import cv2\n",
        "from PIL import Image\n",
        "from statistics import mode\n",
        "import tensorflow as tf\n",
        "from tensorflow import keras\n",
        "from tensorflow.keras import layers\n",
        "from sklearn import metrics, model_selection\n",
        "from keras.models import Sequential, load_model\n",
        "import seaborn as sns\n",
        "import pickle\n",
        "from sklearn.metrics import roc_auc_score"
      ]
    },
    {
      "cell_type": "code",
      "execution_count": 2,
      "metadata": {
        "colab": {
          "base_uri": "https://localhost:8080/"
        },
        "id": "1fW7laEPUL1U",
        "outputId": "20ba10a0-d3a0-4287-a3a1-d5e8a9bf8a6e"
      },
      "outputs": [],
      "source": [
        "googl = False\n",
        "\n",
        "try:\n",
        "    from google.colab import drive\n",
        "    drive.mount('/content/drive')\n",
        "    googl = True\n",
        "except:\n",
        "    googl = False"
      ]
    },
    {
      "cell_type": "code",
      "execution_count": 3,
      "metadata": {
        "id": "C1Va7PI_UeXN"
      },
      "outputs": [],
      "source": [
        "if googl:\n",
        "    infile = open('/content/drive/MyDrive/Lab7sds/dataframe_p3.pkl','rb')\n",
        "    df = pickle.load(infile)\n",
        "    infile.close()\n",
        "else:\n",
        "    infile = open('dataframe_p3.pkl','rb')\n",
        "    df = pickle.load(infile)\n",
        "    infile.close()\n"
      ]
    },
    {
      "cell_type": "markdown",
      "metadata": {
        "id": "Uny8KtoeVOPc"
      },
      "source": [
        "Separando Data"
      ]
    },
    {
      "cell_type": "code",
      "execution_count": 4,
      "metadata": {
        "colab": {
          "base_uri": "https://localhost:8080/"
        },
        "id": "rHZgo8wuVIfn",
        "outputId": "aa85b485-139f-4509-b706-b9abf1fb265a"
      },
      "outputs": [
        {
          "name": "stdout",
          "output_type": "stream",
          "text": [
            "<class 'numpy.ndarray'>\n",
            "<class 'numpy.ndarray'>\n"
          ]
        },
        {
          "data": {
            "text/plain": [
              "(2387,)"
            ]
          },
          "execution_count": 4,
          "metadata": {},
          "output_type": "execute_result"
        }
      ],
      "source": [
        "target = df['Label_arrays'].to_numpy()\n",
        "feature_matrix = df['Image'].to_numpy()\n",
        "\n",
        "print(type(target))\n",
        "print(type(feature_matrix))\n",
        "\n",
        "#print('Final features:', feature_matrix.columns)\n",
        "\n",
        "#División de datos de entrenamientos y prueba\n",
        "X_train, X_score, y_train, y_score = model_selection.train_test_split(feature_matrix/255, \n",
        "                                                                      target, \n",
        "                                                                      test_size=0.30, \n",
        "                                                                      random_state=31)\n",
        "\n",
        "X_train.shape"
      ]
    },
    {
      "cell_type": "code",
      "execution_count": 5,
      "metadata": {
        "colab": {
          "base_uri": "https://localhost:8080/"
        },
        "id": "HbzHR024VUfx",
        "outputId": "3cb56f79-a157-4501-d25e-f2d13dcee3c1"
      },
      "outputs": [
        {
          "name": "stdout",
          "output_type": "stream",
          "text": [
            "(2387, 128, 128, 3) <class 'numpy.ndarray'>\n"
          ]
        }
      ],
      "source": [
        "#Recasting\n",
        "\n",
        "X_train = np.array(X_train.tolist(), dtype=float)\n",
        "X_score = np.array(X_score.tolist(), dtype=float)\n",
        "y_train = np.array(y_train.tolist(), dtype=float)\n",
        "y_score = np.array(y_score.tolist(), dtype=float)\n",
        "\n",
        "'''#Expandiendo dims\n",
        "X_train = np.expand_dims(X_train, axis=2)\n",
        "X_test = np.expand_dims(X_score, axis=2)'''\n",
        "\n",
        "print(X_train.shape, type(X_train))"
      ]
    },
    {
      "cell_type": "code",
      "execution_count": 6,
      "metadata": {
        "colab": {
          "base_uri": "https://localhost:8080/"
        },
        "id": "aaGANpJuVWRK",
        "outputId": "15fe1f9f-f119-4861-a2c9-0602b7e18568"
      },
      "outputs": [
        {
          "name": "stdout",
          "output_type": "stream",
          "text": [
            "(2387, 23)\n",
            "(2387, 128, 128, 3)\n",
            "(1024, 128, 128, 3)\n",
            "(1024, 23)\n",
            "(2387, 23)\n",
            "16384\n"
          ]
        }
      ],
      "source": [
        "#Corrigiendo dims\n",
        "print(y_train.shape)\n",
        "print(X_train.shape)\n",
        "print(X_score.shape)\n",
        "print(y_score.shape)\n",
        "num_classes=y_train.shape\n",
        "number_pix=X_train.shape[1]*X_train.shape[2]\n",
        "print(num_classes)\n",
        "print(number_pix)"
      ]
    },
    {
      "cell_type": "markdown",
      "metadata": {
        "id": "5pHUCdbKVvsk"
      },
      "source": [
        "Cargando Modelo"
      ]
    },
    {
      "cell_type": "code",
      "execution_count": 7,
      "metadata": {
        "id": "bvgAVgx1Vxs_"
      },
      "outputs": [],
      "source": [
        "if tf.executing_eagerly():\n",
        "    tf.compat.v1.disable_eager_execution()\n",
        "\n",
        "if googl:\n",
        "    old_model = load_model('/content/drive/MyDrive/Lab7sds/benign_model.h5')\n",
        "else:\n",
        "    old_model = load_model('benign_model.h5')"
      ]
    },
    {
      "cell_type": "code",
      "execution_count": 8,
      "metadata": {
        "colab": {
          "base_uri": "https://localhost:8080/"
        },
        "id": "4WAknxRzoJtB",
        "outputId": "81497f4e-bcc1-4856-9a6a-5ef5f7aad958"
      },
      "outputs": [
        {
          "name": "stderr",
          "output_type": "stream",
          "text": [
            "c:\\Users\\jandr\\AppData\\Local\\Programs\\Python\\Python310\\lib\\site-packages\\keras\\engine\\training_v1.py:2057: UserWarning: `Model.state_updates` will be removed in a future version. This property should not be used in TensorFlow 2.0, as `updates` are applied automatically.\n",
            "  updates = self.state_updates\n"
          ]
        },
        {
          "name": "stdout",
          "output_type": "stream",
          "text": [
            "[0.38619358465075493, 0.92578125]\n"
          ]
        }
      ],
      "source": [
        "print(old_model.evaluate(X_score, y_score))"
      ]
    },
    {
      "cell_type": "markdown",
      "metadata": {
        "id": "OudUmeCvWAkz"
      },
      "source": [
        "Ataque de evasión"
      ]
    },
    {
      "cell_type": "code",
      "execution_count": 9,
      "metadata": {
        "id": "5Tsolc_SV8eR"
      },
      "outputs": [],
      "source": [
        "from art.attacks.evasion import FastGradientMethod"
      ]
    },
    {
      "cell_type": "code",
      "execution_count": 10,
      "metadata": {
        "id": "iixq8NFVWEJK"
      },
      "outputs": [],
      "source": [
        "classifier = KerasClassifier(old_model, clip_values=(0, 1), use_logits=False)"
      ]
    },
    {
      "cell_type": "code",
      "execution_count": 11,
      "metadata": {
        "colab": {
          "base_uri": "https://localhost:8080/"
        },
        "id": "5IFcTYAUWMOq",
        "outputId": "2d306eff-bb94-4b87-fe95-25dc6eaa123f"
      },
      "outputs": [
        {
          "name": "stderr",
          "output_type": "stream",
          "text": [
            "c:\\Users\\jandr\\AppData\\Local\\Programs\\Python\\Python310\\lib\\site-packages\\keras\\engine\\training_v1.py:2079: UserWarning: `Model.state_updates` will be removed in a future version. This property should not be used in TensorFlow 2.0, as `updates` are applied automatically.\n",
            "  updates=self.state_updates,\n"
          ]
        }
      ],
      "source": [
        "# Craft adversarial samples with FGSM\n",
        "epsilon = 0.1  # Maximum perturbation\n",
        "adv_crafter = FastGradientMethod(classifier, eps=epsilon)\n",
        "x_test_adv = adv_crafter.generate(x=X_score)"
      ]
    },
    {
      "cell_type": "code",
      "execution_count": 12,
      "metadata": {
        "colab": {
          "base_uri": "https://localhost:8080/"
        },
        "id": "faef8ZsdbB6y",
        "outputId": "5b91200e-6c36-420c-de91-d672c1732b48"
      },
      "outputs": [
        {
          "name": "stdout",
          "output_type": "stream",
          "text": [
            "\n",
            "Test accuracy on adversarial sample: 9.08%\n"
          ]
        }
      ],
      "source": [
        "# Evaluate the classifier on the adversarial examples\n",
        "preds = np.argmax(classifier.predict(x_test_adv), axis=1)\n",
        "acc = np.sum(preds == np.argmax(y_score, axis=1)) / y_score.shape[0]\n",
        "print(\"\\nTest accuracy on adversarial sample: %.2f%%\" % (acc * 100))"
      ]
    },
    {
      "cell_type": "markdown",
      "metadata": {
        "id": "br0HHEULhxpE"
      },
      "source": [
        "Entrenando nuevo modelo robusto"
      ]
    },
    {
      "cell_type": "code",
      "execution_count": 13,
      "metadata": {
        "colab": {
          "base_uri": "https://localhost:8080/"
        },
        "id": "Zc26UKZimwys",
        "outputId": "5048e8c5-0008-4cb2-9fd2-65bfed72e9fb"
      },
      "outputs": [],
      "source": [
        "#New robust model\n",
        "robust_model = Sequential()\n",
        "\n",
        "#Input Layer\n",
        "robust_model.add(layers.Conv2D(128, (1, 1), activation='relu', input_shape=(128, 128, 3)))\n",
        "robust_model.add(layers.MaxPooling2D((1, 1)))\n",
        "\n",
        "#Layer 2\n",
        "robust_model.add(layers.Conv2D(64, (1, 1), activation='relu'))\n",
        "robust_model.add(layers.MaxPooling2D((1, 1)))\n",
        "\n",
        "\n",
        "#Layer 3\n",
        "robust_model.add(layers.Conv2D(64, (1, 1), activation='relu'))\n",
        "robust_model.add(layers.Flatten())\n",
        "\n",
        "#Final layer\n",
        "robust_model.add(layers.Dense(64, activation='relu'))\n",
        "robust_model.add(layers.Dense(23, activation='sigmoid'))"
      ]
    },
    {
      "cell_type": "code",
      "execution_count": 14,
      "metadata": {},
      "outputs": [
        {
          "name": "stdout",
          "output_type": "stream",
          "text": [
            "Model: \"sequential\"\n",
            "_________________________________________________________________\n",
            " Layer (type)                Output Shape              Param #   \n",
            "=================================================================\n",
            " conv2d (Conv2D)             (None, 128, 128, 128)     512       \n",
            "                                                                 \n",
            " max_pooling2d (MaxPooling2D  (None, 128, 128, 128)    0         \n",
            " )                                                               \n",
            "                                                                 \n",
            " conv2d_1 (Conv2D)           (None, 128, 128, 64)      8256      \n",
            "                                                                 \n",
            " max_pooling2d_1 (MaxPooling  (None, 128, 128, 64)     0         \n",
            " 2D)                                                             \n",
            "                                                                 \n",
            " conv2d_2 (Conv2D)           (None, 128, 128, 64)      4160      \n",
            "                                                                 \n",
            " flatten (Flatten)           (None, 1048576)           0         \n",
            "                                                                 \n",
            " dense (Dense)               (None, 64)                67108928  \n",
            "                                                                 \n",
            " dense_1 (Dense)             (None, 23)                1495      \n",
            "                                                                 \n",
            "=================================================================\n",
            "Total params: 67,123,351\n",
            "Trainable params: 67,123,351\n",
            "Non-trainable params: 0\n",
            "_________________________________________________________________\n"
          ]
        }
      ],
      "source": [
        "robust_model.summary()"
      ]
    },
    {
      "cell_type": "code",
      "execution_count": 15,
      "metadata": {},
      "outputs": [],
      "source": [
        "robust_model.compile(optimizer='adam', loss='categorical_crossentropy', metrics=['accuracy'])"
      ]
    },
    {
      "cell_type": "code",
      "execution_count": 16,
      "metadata": {},
      "outputs": [
        {
          "name": "stdout",
          "output_type": "stream",
          "text": [
            "<class 'numpy.ndarray'>\n",
            "<class 'numpy.ndarray'>\n",
            "2387\n"
          ]
        }
      ],
      "source": [
        "#Creando data de ruido\n",
        "epsilon = 0.5  # Maximum perturbation\n",
        "adv_crafter = FastGradientMethod(classifier, eps=epsilon)\n",
        "x_train_adv = adv_crafter.generate(x=X_train)\n",
        "\n",
        "print(type(x_train_adv))\n",
        "print(type(x_train_adv[0]))\n",
        "print(len(x_train_adv))"
      ]
    },
    {
      "cell_type": "code",
      "execution_count": 17,
      "metadata": {},
      "outputs": [],
      "source": [
        "new_X_train = np.concatenate([X_train, x_train_adv])\n",
        "new_y_train = np.concatenate([y_train, y_train])"
      ]
    },
    {
      "cell_type": "code",
      "execution_count": 18,
      "metadata": {},
      "outputs": [
        {
          "name": "stdout",
          "output_type": "stream",
          "text": [
            "Train on 4774 samples, validate on 1024 samples\n",
            "Epoch 1/4\n",
            "4774/4774 [==============================] - 196s 41ms/sample - loss: 1.8470 - accuracy: 0.6628 - val_loss: 0.7418 - val_accuracy: 0.8076\n",
            "Epoch 2/4\n",
            "4774/4774 [==============================] - 197s 41ms/sample - loss: 0.2076 - accuracy: 0.9413 - val_loss: 0.4574 - val_accuracy: 0.8818\n",
            "Epoch 3/4\n",
            "4774/4774 [==============================] - 197s 41ms/sample - loss: 0.0939 - accuracy: 0.9713 - val_loss: 0.4649 - val_accuracy: 0.8799\n",
            "Epoch 4/4\n",
            "4774/4774 [==============================] - 195s 41ms/sample - loss: 0.0547 - accuracy: 0.9837 - val_loss: 0.5451 - val_accuracy: 0.8721\n"
          ]
        },
        {
          "data": {
            "image/png": "[encoded data removed]",
            "text/plain": [
              "<Figure size 432x288 with 1 Axes>"
            ]
          },
          "metadata": {
            "needs_background": "light"
          },
          "output_type": "display_data"
        }
      ],
      "source": [
        "history = robust_model.fit(new_X_train, new_y_train, \n",
        "                    epochs=4, \n",
        "                    validation_data=(X_score, y_score), \n",
        "                    verbose=1)\n",
        "\n",
        "history_df = pd.DataFrame({\n",
        "    'loss': history.history['loss'],\n",
        "    'test_loss': history.history['val_loss']\n",
        "})\n",
        "\n",
        "sns.lineplot(data=history_df)\n",
        "plt.show()"
      ]
    },
    {
      "cell_type": "markdown",
      "metadata": {
        "id": "XO7-_8QWhxpG"
      },
      "source": [
        "Pruebas"
      ]
    },
    {
      "cell_type": "code",
      "execution_count": 19,
      "metadata": {
        "id": "ACj1IPqthxpG"
      },
      "outputs": [],
      "source": [
        "Nclassifier = KerasClassifier(robust_model, clip_values=(0, 1), use_logits=False)"
      ]
    },
    {
      "cell_type": "code",
      "execution_count": 20,
      "metadata": {
        "id": "dsb1v0mnhxpG"
      },
      "outputs": [],
      "source": [
        "epsilon = 0.1  # Maximum perturbation\n",
        "adv_crafter = FastGradientMethod(classifier, eps=epsilon)\n",
        "x_test_adv = adv_crafter.generate(x=X_score)"
      ]
    },
    {
      "cell_type": "code",
      "execution_count": 23,
      "metadata": {
        "colab": {
          "base_uri": "https://localhost:8080/"
        },
        "id": "1MIrhGgghxpG",
        "outputId": "e1225631-e54c-43a5-f8df-10ecc48f49ee"
      },
      "outputs": [
        {
          "name": "stdout",
          "output_type": "stream",
          "text": [
            "\n",
            "Test accuracy on adversarial sample: 83.40%\n"
          ]
        }
      ],
      "source": [
        "# Evaluate the classifier on the adversarial examples\n",
        "preds = np.argmax(Nclassifier.predict(x_test_adv), axis=1)\n",
        "acc = np.sum(preds == np.argmax(y_score, axis=1)) / y_score.shape[0]\n",
        "print(\"\\nTest accuracy on adversarial sample: %.2f%%\" % (acc * 100))"
      ]
    },
    {
      "cell_type": "code",
      "execution_count": 24,
      "metadata": {},
      "outputs": [
        {
          "name": "stdout",
          "output_type": "stream",
          "text": [
            "\n",
            "Test accuracy clean samples: 86.82%\n"
          ]
        }
      ],
      "source": [
        "# Evaluate the classifier on clean data\n",
        "preds_clean = np.argmax(classifier.predict(X_score), axis=1)\n",
        "acc_clean = np.sum(preds_clean == np.argmax(y_score, axis=1)) / y_score.shape[0]\n",
        "print(\"\\nTest accuracy clean samples: %.2f%%\" % (acc_clean * 100))"
      ]
    },
    {
      "cell_type": "code",
      "execution_count": 31,
      "metadata": {},
      "outputs": [
        {
          "name": "stdout",
          "output_type": "stream",
          "text": [
            "ROC AUC on adversarial samples: 94.54%\n"
          ]
        }
      ],
      "source": [
        "y_pred = robust_model.predict(x_test_adv, verbose=0)\n",
        "\n",
        "\n",
        "auc = roc_auc_score(y_score, y_pred)\n",
        "print('ROC AUC on adversarial samples: %.2f%%' % (auc * 100))"
      ]
    },
    {
      "cell_type": "code",
      "execution_count": 33,
      "metadata": {},
      "outputs": [
        {
          "name": "stdout",
          "output_type": "stream",
          "text": [
            "ROC AUC on clean samples: 94.46%\n"
          ]
        }
      ],
      "source": [
        "y_pred_clean = robust_model.predict(X_score, verbose=0)\n",
        "\n",
        "\n",
        "auc_clean = roc_auc_score(y_score, y_pred_clean)\n",
        "print('ROC AUC on clean samples: %.2f%%' % (auc_clean * 100))"
      ]
    }
  ],
  "metadata": {
    "colab": {
      "collapsed_sections": [],
      "name": "proy3_parte2 (2).ipynb",
      "provenance": []
    },
    "interpreter": {
      "hash": "ce6ff8bbdc6af41c7601c15919eb0fc93b04841ad59d7bb98e6aee0cd6449aa0"
    },
    "kernelspec": {
      "display_name": "Python 3.10.4 64-bit",
      "language": "python",
      "name": "python3"
    },
    "language_info": {
      "codemirror_mode": {
        "name": "ipython",
        "version": 3
      },
      "file_extension": ".py",
      "mimetype": "text/x-python",
      "name": "python",
      "nbconvert_exporter": "python",
      "pygments_lexer": "ipython3",
      "version": "3.10.4"
    }
  },
  "nbformat": 4,
  "nbformat_minor": 0
}
