{
  "nbformat": 4,
  "nbformat_minor": 0,
  "metadata": {
    "colab": {
      "name": "proy3_parte2.ipynb",
      "provenance": [],
      "collapsed_sections": []
    },
    "kernelspec": {
      "name": "python3",
      "display_name": "Python 3"
    },
    "language_info": {
      "name": "python"
    }
  },
  "cells": [
    {
      "cell_type": "code",
      "execution_count": 3,
      "metadata": {
        "id": "Z6v00pIyUHAa"
      },
      "outputs": [],
      "source": [
        "#Importando libs\n",
        "from art.attacks.extraction import CopycatCNN, KnockoffNets\n",
        "from art.estimators.classification import KerasClassifier\n",
        "import numpy as np\n",
        "from glob import glob\n",
        "import scipy\n",
        "from scipy.io import wavfile\n",
        "import scipy.fftpack as fft\n",
        "from scipy.signal import get_window\n",
        "import matplotlib.pyplot as plt\n",
        "from random import randint\n",
        "from tqdm import tqdm\n",
        "import pandas as pd\n",
        "import cv2\n",
        "from PIL import Image\n",
        "from statistics import mode\n",
        "import tensorflow as tf\n",
        "from tensorflow import keras\n",
        "from tensorflow.keras import layers\n",
        "from sklearn import metrics, model_selection\n",
        "from keras.models import Sequential, load_model\n",
        "import seaborn as sns\n",
        "import pickle\n",
        "from sklearn.metrics import roc_auc_score"
      ]
    },
    {
      "cell_type": "code",
      "source": [
        "googl = False\n",
        "\n",
        "try:\n",
        "    from google.colab import drive\n",
        "    drive.mount('/content/drive')\n",
        "    googl = True\n",
        "except:\n",
        "    googl = False"
      ],
      "metadata": {
        "colab": {
          "base_uri": "https://localhost:8080/"
        },
        "id": "1fW7laEPUL1U",
        "outputId": "4a104469-d70d-47ee-c59c-a1c0f90b6e38"
      },
      "execution_count": 4,
      "outputs": [
        {
          "output_type": "stream",
          "name": "stdout",
          "text": [
            "Mounted at /content/drive\n"
          ]
        }
      ]
    },
    {
      "cell_type": "code",
      "source": [
        "if googl:\n",
        "    infile = open('/content/drive/MyDrive/Lab7sds/dataframe_p3.pkl','rb')\n",
        "    df = pickle.load(infile)\n",
        "    infile.close()\n",
        "else:\n",
        "    infile = open('dataframe_p3.pkl','rb')\n",
        "    df = pickle.load(infile)\n",
        "    infile.close()\n"
      ],
      "metadata": {
        "id": "C1Va7PI_UeXN"
      },
      "execution_count": 5,
      "outputs": []
    },
    {
      "cell_type": "markdown",
      "source": [
        "Separando Data"
      ],
      "metadata": {
        "id": "Uny8KtoeVOPc"
      }
    },
    {
      "cell_type": "code",
      "source": [
        "target = df['Label_arrays'].to_numpy()\n",
        "feature_matrix = df['Image'].to_numpy()\n",
        "\n",
        "print(type(target))\n",
        "print(type(feature_matrix))\n",
        "\n",
        "#print('Final features:', feature_matrix.columns)\n",
        "\n",
        "#División de datos de entrenamientos y prueba\n",
        "X_train, X_score, y_train, y_score = model_selection.train_test_split(feature_matrix/255, \n",
        "                                                                      target, \n",
        "                                                                      test_size=0.30, \n",
        "                                                                      random_state=31)\n",
        "\n",
        "X_train.shape"
      ],
      "metadata": {
        "colab": {
          "base_uri": "https://localhost:8080/"
        },
        "id": "rHZgo8wuVIfn",
        "outputId": "198bcfd0-7747-40b6-f226-f0d534cb6011"
      },
      "execution_count": 6,
      "outputs": [
        {
          "output_type": "stream",
          "name": "stdout",
          "text": [
            "<class 'numpy.ndarray'>\n",
            "<class 'numpy.ndarray'>\n"
          ]
        },
        {
          "output_type": "execute_result",
          "data": {
            "text/plain": [
              "(2247,)"
            ]
          },
          "metadata": {},
          "execution_count": 6
        }
      ]
    },
    {
      "cell_type": "code",
      "source": [
        "#Recasting\n",
        "\n",
        "X_train = np.array(X_train.tolist(), dtype=float)\n",
        "X_score = np.array(X_score.tolist(), dtype=float)\n",
        "y_train = np.array(y_train.tolist(), dtype=float)\n",
        "y_score = np.array(y_score.tolist(), dtype=float)\n",
        "\n",
        "'''#Expandiendo dims\n",
        "X_train = np.expand_dims(X_train, axis=2)\n",
        "X_test = np.expand_dims(X_score, axis=2)'''\n",
        "\n",
        "print(X_train.shape, type(X_train))"
      ],
      "metadata": {
        "colab": {
          "base_uri": "https://localhost:8080/"
        },
        "id": "HbzHR024VUfx",
        "outputId": "c711f497-ef81-43fc-d04c-1898b7ae3e97"
      },
      "execution_count": 7,
      "outputs": [
        {
          "output_type": "stream",
          "name": "stdout",
          "text": [
            "(2247, 128, 128, 3) <class 'numpy.ndarray'>\n"
          ]
        }
      ]
    },
    {
      "cell_type": "code",
      "source": [
        "#Corrigiendo dims\n",
        "print(y_train.shape)\n",
        "print(X_train.shape)\n",
        "print(X_score.shape)\n",
        "print(y_score.shape)\n",
        "num_classes=y_train.shape\n",
        "number_pix=X_train.shape[1]*X_train.shape[2]\n",
        "print(num_classes)\n",
        "print(number_pix)"
      ],
      "metadata": {
        "colab": {
          "base_uri": "https://localhost:8080/"
        },
        "id": "aaGANpJuVWRK",
        "outputId": "a86d13e5-4d58-4eda-ac1f-059fcd4297f2"
      },
      "execution_count": 8,
      "outputs": [
        {
          "output_type": "stream",
          "name": "stdout",
          "text": [
            "(2247, 23)\n",
            "(2247, 128, 128, 3)\n",
            "(964, 128, 128, 3)\n",
            "(964, 23)\n",
            "(2247, 23)\n",
            "16384\n"
          ]
        }
      ]
    },
    {
      "cell_type": "markdown",
      "source": [
        "Cargando Modelo"
      ],
      "metadata": {
        "id": "5pHUCdbKVvsk"
      }
    },
    {
      "cell_type": "code",
      "source": [
        "if tf.executing_eagerly():\n",
        "    tf.compat.v1.disable_eager_execution()\n",
        "\n",
        "if googl:\n",
        "    malign_model = load_model('/content/drive/MyDrive/Lab7sds/benign_model.h5')\n",
        "else:\n",
        "    malign_model = load_model('benign_model.h5')"
      ],
      "metadata": {
        "id": "bvgAVgx1Vxs_"
      },
      "execution_count": 9,
      "outputs": []
    },
    {
      "cell_type": "markdown",
      "source": [
        "Ataque de evasión"
      ],
      "metadata": {
        "id": "OudUmeCvWAkz"
      }
    },
    {
      "cell_type": "code",
      "source": [
        "from art.attacks.evasion import FastGradientMethod"
      ],
      "metadata": {
        "id": "5Tsolc_SV8eR"
      },
      "execution_count": 10,
      "outputs": []
    },
    {
      "cell_type": "code",
      "source": [
        "classifier = KerasClassifier(malign_model, clip_values=(0, 1), use_logits=False)"
      ],
      "metadata": {
        "id": "iixq8NFVWEJK"
      },
      "execution_count": 11,
      "outputs": []
    },
    {
      "cell_type": "code",
      "source": [
        "# Craft adversarial samples with FGSM\n",
        "epsilon = 0.1  # Maximum perturbation\n",
        "adv_crafter = FastGradientMethod(classifier, eps=epsilon)\n",
        "x_test_adv = adv_crafter.generate(x=X_score)"
      ],
      "metadata": {
        "id": "5IFcTYAUWMOq"
      },
      "execution_count": 13,
      "outputs": []
    },
    {
      "cell_type": "code",
      "source": [
        "# Evaluate the classifier on the adversarial examples\n",
        "preds = np.argmax(classifier.predict(x_test_adv), axis=1)\n",
        "acc = np.sum(preds == np.argmax(y_score, axis=1)) / y_score.shape[0]\n",
        "print(\"\\nTest accuracy on adversarial sample: %.2f%%\" % (acc * 100))"
      ],
      "metadata": {
        "colab": {
          "base_uri": "https://localhost:8080/"
        },
        "id": "faef8ZsdbB6y",
        "outputId": "c58c52ae-c9fd-4f31-877a-1c160ae2b853"
      },
      "execution_count": 14,
      "outputs": [
        {
          "output_type": "stream",
          "name": "stdout",
          "text": [
            "\n",
            "Test accuracy on adversarial sample: 10.79%\n"
          ]
        }
      ]
    }
  ]
}